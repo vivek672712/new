{
    "cells": [
        {
            "cell_type": "code",
            "execution_count": 1,
            "metadata": {},
            "outputs": [
                {
                    "data": {
                        "text/html": "<div>\n<style scoped>\n    .dataframe tbody tr th:only-of-type {\n        vertical-align: middle;\n    }\n\n    .dataframe tbody tr th {\n        vertical-align: top;\n    }\n\n    .dataframe thead th {\n        text-align: right;\n    }\n</style>\n<table border=\"1\" class=\"dataframe\">\n  <thead>\n    <tr style=\"text-align: right;\">\n      <th></th>\n      <th>student_id</th>\n      <th>school</th>\n      <th>sex</th>\n      <th>age</th>\n      <th>address_type</th>\n      <th>family_size</th>\n      <th>parent_status</th>\n      <th>mother_education</th>\n      <th>father_education</th>\n      <th>mother_job</th>\n      <th>...</th>\n      <th>family_relationship</th>\n      <th>free_time</th>\n      <th>social</th>\n      <th>weekday_alcohol</th>\n      <th>weekend_alcohol</th>\n      <th>health</th>\n      <th>absences</th>\n      <th>grade_1</th>\n      <th>grade_2</th>\n      <th>final_grade</th>\n    </tr>\n  </thead>\n  <tbody>\n    <tr>\n      <th>0</th>\n      <td>1</td>\n      <td>GP</td>\n      <td>F</td>\n      <td>18</td>\n      <td>Urban</td>\n      <td>Greater than 3</td>\n      <td>Apart</td>\n      <td>higher education</td>\n      <td>higher education</td>\n      <td>at_home</td>\n      <td>...</td>\n      <td>4</td>\n      <td>3</td>\n      <td>4</td>\n      <td>1</td>\n      <td>1</td>\n      <td>3</td>\n      <td>6</td>\n      <td>5</td>\n      <td>6</td>\n      <td>6</td>\n    </tr>\n    <tr>\n      <th>1</th>\n      <td>2</td>\n      <td>GP</td>\n      <td>F</td>\n      <td>17</td>\n      <td>Urban</td>\n      <td>Greater than 3</td>\n      <td>Living together</td>\n      <td>primary education (4th grade)</td>\n      <td>primary education (4th grade)</td>\n      <td>at_home</td>\n      <td>...</td>\n      <td>5</td>\n      <td>3</td>\n      <td>3</td>\n      <td>1</td>\n      <td>1</td>\n      <td>3</td>\n      <td>4</td>\n      <td>5</td>\n      <td>5</td>\n      <td>6</td>\n    </tr>\n    <tr>\n      <th>2</th>\n      <td>3</td>\n      <td>GP</td>\n      <td>F</td>\n      <td>15</td>\n      <td>Urban</td>\n      <td>Less than or equal to 3</td>\n      <td>Living together</td>\n      <td>primary education (4th grade)</td>\n      <td>primary education (4th grade)</td>\n      <td>at_home</td>\n      <td>...</td>\n      <td>4</td>\n      <td>3</td>\n      <td>2</td>\n      <td>2</td>\n      <td>3</td>\n      <td>3</td>\n      <td>10</td>\n      <td>7</td>\n      <td>8</td>\n      <td>10</td>\n    </tr>\n    <tr>\n      <th>3</th>\n      <td>4</td>\n      <td>GP</td>\n      <td>F</td>\n      <td>15</td>\n      <td>Urban</td>\n      <td>Greater than 3</td>\n      <td>Living together</td>\n      <td>higher education</td>\n      <td>5th to 9th grade</td>\n      <td>health</td>\n      <td>...</td>\n      <td>3</td>\n      <td>2</td>\n      <td>2</td>\n      <td>1</td>\n      <td>1</td>\n      <td>5</td>\n      <td>2</td>\n      <td>15</td>\n      <td>14</td>\n      <td>15</td>\n    </tr>\n    <tr>\n      <th>4</th>\n      <td>5</td>\n      <td>GP</td>\n      <td>F</td>\n      <td>16</td>\n      <td>Urban</td>\n      <td>Greater than 3</td>\n      <td>Living together</td>\n      <td>secondary education</td>\n      <td>secondary education</td>\n      <td>other</td>\n      <td>...</td>\n      <td>4</td>\n      <td>3</td>\n      <td>2</td>\n      <td>1</td>\n      <td>2</td>\n      <td>5</td>\n      <td>4</td>\n      <td>6</td>\n      <td>10</td>\n      <td>10</td>\n    </tr>\n  </tbody>\n</table>\n<p>5 rows \u00d7 34 columns</p>\n</div>",
                        "text/plain": "   student_id school sex  age address_type              family_size  \\\n0           1     GP   F   18        Urban           Greater than 3   \n1           2     GP   F   17        Urban           Greater than 3   \n2           3     GP   F   15        Urban  Less than or equal to 3   \n3           4     GP   F   15        Urban           Greater than 3   \n4           5     GP   F   16        Urban           Greater than 3   \n\n     parent_status               mother_education  \\\n0            Apart               higher education   \n1  Living together  primary education (4th grade)   \n2  Living together  primary education (4th grade)   \n3  Living together               higher education   \n4  Living together            secondary education   \n\n                father_education mother_job  ... family_relationship  \\\n0               higher education    at_home  ...                   4   \n1  primary education (4th grade)    at_home  ...                   5   \n2  primary education (4th grade)    at_home  ...                   4   \n3               5th to 9th grade     health  ...                   3   \n4            secondary education      other  ...                   4   \n\n  free_time social weekday_alcohol weekend_alcohol  health absences grade_1  \\\n0         3      4               1               1       3        6       5   \n1         3      3               1               1       3        4       5   \n2         3      2               2               3       3       10       7   \n3         2      2               1               1       5        2      15   \n4         3      2               1               2       5        4       6   \n\n  grade_2 final_grade  \n0       6           6  \n1       5           6  \n2       8          10  \n3      14          15  \n4      10          10  \n\n[5 rows x 34 columns]"
                    },
                    "execution_count": 1,
                    "metadata": {},
                    "output_type": "execute_result"
                }
            ],
            "source": "# The code was removed by Watson Studio for sharing."
        },
        {
            "cell_type": "code",
            "execution_count": null,
            "metadata": {},
            "outputs": [],
            "source": ""
        }
    ],
    "metadata": {
        "kernelspec": {
            "display_name": "Python 3.10",
            "language": "python",
            "name": "python3"
        },
        "language_info": {
            "codemirror_mode": {
                "name": "ipython",
                "version": 3
            },
            "file_extension": ".py",
            "mimetype": "text/x-python",
            "name": "python",
            "nbconvert_exporter": "python",
            "pygments_lexer": "ipython3",
            "version": "3.10.13"
        }
    },
    "nbformat": 4,
    "nbformat_minor": 1
}